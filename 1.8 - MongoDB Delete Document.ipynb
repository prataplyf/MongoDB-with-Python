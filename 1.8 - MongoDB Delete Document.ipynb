{
 "cells": [
  {
   "cell_type": "code",
   "execution_count": 1,
   "metadata": {},
   "outputs": [],
   "source": [
    "import pymongo"
   ]
  },
  {
   "cell_type": "code",
   "execution_count": 2,
   "metadata": {},
   "outputs": [],
   "source": [
    "myclient = pymongo.MongoClient(\"mongodb://localhost:27017/\")\n",
    "mydb = myclient[\"mydatabase\"]\n",
    "mycol = mydb[\"customer\"]"
   ]
  },
  {
   "cell_type": "code",
   "execution_count": 3,
   "metadata": {},
   "outputs": [
    {
     "name": "stdout",
     "output_type": "stream",
     "text": [
      "{'_id': ObjectId('5d7384c24c059eb9635a38ca'), 'Name': 'John', 'Contact': '+123654987', 'Address': 'Botson'}\n",
      "{'_id': ObjectId('5d73853a4c059eb9635a38cb'), 'Name': 'Peter', 'Contact': '+987456321', 'Address': 'HHighway 27'}\n",
      "{'_id': ObjectId('5d7386724c059eb9635a38cc'), 'name': 'Amy', 'address': 'Apple st 652'}\n",
      "{'_id': ObjectId('5d7386724c059eb9635a38cd'), 'name': 'Hannah', 'address': 'Mountain 21'}\n",
      "{'_id': ObjectId('5d7386724c059eb9635a38ce'), 'name': 'Michael', 'address': 'Valley 345'}\n",
      "{'_id': ObjectId('5d7386724c059eb9635a38cf'), 'name': 'Sandy', 'address': 'Ocean blvd 2'}\n",
      "{'_id': ObjectId('5d7386724c059eb9635a38d0'), 'name': 'Betty', 'address': 'Green Grass 1'}\n",
      "{'_id': ObjectId('5d7386724c059eb9635a38d1'), 'name': 'Richard', 'address': 'Sky st 331'}\n",
      "{'_id': ObjectId('5d7386724c059eb9635a38d2'), 'name': 'Susan', 'address': 'One way 98'}\n",
      "{'_id': ObjectId('5d7386724c059eb9635a38d3'), 'name': 'Vicky', 'address': 'Yellow Garden 2'}\n",
      "{'_id': ObjectId('5d7386724c059eb9635a38d4'), 'name': 'Ben', 'address': 'Park Lane 38'}\n",
      "{'_id': ObjectId('5d7386724c059eb9635a38d5'), 'name': 'William', 'address': 'Central st 954'}\n",
      "{'_id': ObjectId('5d7386724c059eb9635a38d6'), 'name': 'Chuck', 'address': 'Main Road 989'}\n",
      "{'_id': ObjectId('5d7386724c059eb9635a38d7'), 'name': 'Viola', 'address': 'Sideway 1633'}\n",
      "{'_id': 1, 'name': 'John', 'address': 'Highway 37'}\n",
      "{'_id': 2, 'name': 'Peter', 'address': 'Lowstreet 27'}\n",
      "{'_id': 3, 'name': 'Amy', 'address': 'Apple st 652'}\n",
      "{'_id': 4, 'name': 'Hannah', 'address': 'Mountain 21'}\n",
      "{'_id': 5, 'name': 'Michael', 'address': 'Valley 345'}\n",
      "{'_id': 6, 'name': 'Sandy', 'address': 'Ocean blvd 2'}\n",
      "{'_id': 7, 'name': 'Betty', 'address': 'Green Grass 1'}\n",
      "{'_id': 8, 'name': 'Richard', 'address': 'Sky st 331'}\n",
      "{'_id': 9, 'name': 'Susan', 'address': 'One way 98'}\n",
      "{'_id': 10, 'name': 'Vicky', 'address': 'Yellow Garden 2'}\n",
      "{'_id': 11, 'name': 'Ben', 'address': 'Park Lane 38'}\n",
      "{'_id': 12, 'name': 'William', 'address': 'Central st 954'}\n",
      "{'_id': 13, 'name': 'Chuck', 'address': 'Main Road 989'}\n",
      "{'_id': 14, 'name': 'Viola', 'address': 'Sideway 1633'}\n"
     ]
    }
   ],
   "source": [
    "for x in mycol.find():\n",
    "    print(x)"
   ]
  },
  {
   "cell_type": "markdown",
   "metadata": {},
   "source": [
    "# Delete Document\n",
    "To delete one document, we use the **delete_one()** method.\n",
    "\n",
    "The first parameter of the **delete_one()** method is a query object defining which document to delete."
   ]
  },
  {
   "cell_type": "code",
   "execution_count": 6,
   "metadata": {},
   "outputs": [
    {
     "name": "stdout",
     "output_type": "stream",
     "text": [
      "{'_id': ObjectId('5d7384c24c059eb9635a38ca'), 'Name': 'John', 'Contact': '+123654987', 'Address': 'Botson'}\n",
      "{'_id': ObjectId('5d73853a4c059eb9635a38cb'), 'Name': 'Peter', 'Contact': '+987456321', 'Address': 'HHighway 27'}\n",
      "{'_id': ObjectId('5d7386724c059eb9635a38cc'), 'name': 'Amy', 'address': 'Apple st 652'}\n",
      "{'_id': ObjectId('5d7386724c059eb9635a38ce'), 'name': 'Michael', 'address': 'Valley 345'}\n",
      "{'_id': ObjectId('5d7386724c059eb9635a38cf'), 'name': 'Sandy', 'address': 'Ocean blvd 2'}\n",
      "{'_id': ObjectId('5d7386724c059eb9635a38d0'), 'name': 'Betty', 'address': 'Green Grass 1'}\n",
      "{'_id': ObjectId('5d7386724c059eb9635a38d1'), 'name': 'Richard', 'address': 'Sky st 331'}\n",
      "{'_id': ObjectId('5d7386724c059eb9635a38d2'), 'name': 'Susan', 'address': 'One way 98'}\n",
      "{'_id': ObjectId('5d7386724c059eb9635a38d3'), 'name': 'Vicky', 'address': 'Yellow Garden 2'}\n",
      "{'_id': ObjectId('5d7386724c059eb9635a38d4'), 'name': 'Ben', 'address': 'Park Lane 38'}\n",
      "{'_id': ObjectId('5d7386724c059eb9635a38d5'), 'name': 'William', 'address': 'Central st 954'}\n",
      "{'_id': ObjectId('5d7386724c059eb9635a38d6'), 'name': 'Chuck', 'address': 'Main Road 989'}\n",
      "{'_id': ObjectId('5d7386724c059eb9635a38d7'), 'name': 'Viola', 'address': 'Sideway 1633'}\n",
      "{'_id': 1, 'name': 'John', 'address': 'Highway 37'}\n",
      "{'_id': 2, 'name': 'Peter', 'address': 'Lowstreet 27'}\n",
      "{'_id': 3, 'name': 'Amy', 'address': 'Apple st 652'}\n",
      "{'_id': 4, 'name': 'Hannah', 'address': 'Mountain 21'}\n",
      "{'_id': 5, 'name': 'Michael', 'address': 'Valley 345'}\n",
      "{'_id': 6, 'name': 'Sandy', 'address': 'Ocean blvd 2'}\n",
      "{'_id': 7, 'name': 'Betty', 'address': 'Green Grass 1'}\n",
      "{'_id': 8, 'name': 'Richard', 'address': 'Sky st 331'}\n",
      "{'_id': 9, 'name': 'Susan', 'address': 'One way 98'}\n",
      "{'_id': 10, 'name': 'Vicky', 'address': 'Yellow Garden 2'}\n",
      "{'_id': 11, 'name': 'Ben', 'address': 'Park Lane 38'}\n",
      "{'_id': 12, 'name': 'William', 'address': 'Central st 954'}\n",
      "{'_id': 13, 'name': 'Chuck', 'address': 'Main Road 989'}\n",
      "{'_id': 14, 'name': 'Viola', 'address': 'Sideway 1633'}\n"
     ]
    }
   ],
   "source": [
    "myquery = {\"address\": \"Mountain 21\"}\n",
    "mycol.delete_one(myquery)\n",
    "for x in mycol.find():\n",
    "    print(x)"
   ]
  },
  {
   "cell_type": "code",
   "execution_count": 9,
   "metadata": {},
   "outputs": [
    {
     "name": "stdout",
     "output_type": "stream",
     "text": [
      "{'_id': ObjectId('5d7384c24c059eb9635a38ca'), 'Name': 'John', 'Contact': '+123654987', 'Address': 'Botson'}\n",
      "{'_id': ObjectId('5d73853a4c059eb9635a38cb'), 'Name': 'Peter', 'Contact': '+987456321', 'Address': 'HHighway 27'}\n",
      "{'_id': ObjectId('5d7386724c059eb9635a38cc'), 'name': 'Amy', 'address': 'Apple st 652'}\n",
      "{'_id': ObjectId('5d7386724c059eb9635a38ce'), 'name': 'Michael', 'address': 'Valley 345'}\n",
      "{'_id': ObjectId('5d7386724c059eb9635a38cf'), 'name': 'Sandy', 'address': 'Ocean blvd 2'}\n",
      "{'_id': ObjectId('5d7386724c059eb9635a38d0'), 'name': 'Betty', 'address': 'Green Grass 1'}\n",
      "{'_id': ObjectId('5d7386724c059eb9635a38d1'), 'name': 'Richard', 'address': 'Sky st 331'}\n",
      "{'_id': ObjectId('5d7386724c059eb9635a38d2'), 'name': 'Susan', 'address': 'One way 98'}\n",
      "{'_id': ObjectId('5d7386724c059eb9635a38d3'), 'name': 'Vicky', 'address': 'Yellow Garden 2'}\n",
      "{'_id': ObjectId('5d7386724c059eb9635a38d4'), 'name': 'Ben', 'address': 'Park Lane 38'}\n",
      "{'_id': ObjectId('5d7386724c059eb9635a38d5'), 'name': 'William', 'address': 'Central st 954'}\n",
      "{'_id': ObjectId('5d7386724c059eb9635a38d6'), 'name': 'Chuck', 'address': 'Main Road 989'}\n",
      "{'_id': ObjectId('5d7386724c059eb9635a38d7'), 'name': 'Viola', 'address': 'Sideway 1633'}\n",
      "{'_id': 1, 'name': 'John', 'address': 'Highway 37'}\n",
      "{'_id': 2, 'name': 'Peter', 'address': 'Lowstreet 27'}\n",
      "{'_id': 3, 'name': 'Amy', 'address': 'Apple st 652'}\n",
      "{'_id': 5, 'name': 'Michael', 'address': 'Valley 345'}\n",
      "{'_id': 6, 'name': 'Sandy', 'address': 'Ocean blvd 2'}\n",
      "{'_id': 7, 'name': 'Betty', 'address': 'Green Grass 1'}\n",
      "{'_id': 8, 'name': 'Richard', 'address': 'Sky st 331'}\n",
      "{'_id': 9, 'name': 'Susan', 'address': 'One way 98'}\n",
      "{'_id': 10, 'name': 'Vicky', 'address': 'Yellow Garden 2'}\n",
      "{'_id': 11, 'name': 'Ben', 'address': 'Park Lane 38'}\n",
      "{'_id': 12, 'name': 'William', 'address': 'Central st 954'}\n",
      "{'_id': 13, 'name': 'Chuck', 'address': 'Main Road 989'}\n",
      "{'_id': 14, 'name': 'Viola', 'address': 'Sideway 1633'}\n"
     ]
    }
   ],
   "source": [
    "# it delete 1 at a time\n",
    "myquery = {\"address\": \"Mountain 21\"}\n",
    "mycol.delete_one(myquery)\n",
    "for x in mycol.find():\n",
    "    print(x)"
   ]
  },
  {
   "cell_type": "markdown",
   "metadata": {},
   "source": [
    "# Delete Many\n",
    "delete address whose name started with **S**"
   ]
  },
  {
   "cell_type": "code",
   "execution_count": 10,
   "metadata": {},
   "outputs": [
    {
     "data": {
      "text/plain": [
       "<pymongo.results.DeleteResult at 0x51ae71a2c8>"
      ]
     },
     "execution_count": 10,
     "metadata": {},
     "output_type": "execute_result"
    }
   ],
   "source": [
    "myquery = {\"address\": {\"$regex\": \"^S\"}}\n",
    "mycol.delete_many(myquery)"
   ]
  },
  {
   "cell_type": "code",
   "execution_count": 11,
   "metadata": {},
   "outputs": [
    {
     "name": "stdout",
     "output_type": "stream",
     "text": [
      "{'_id': ObjectId('5d7384c24c059eb9635a38ca'), 'Name': 'John', 'Contact': '+123654987', 'Address': 'Botson'}\n",
      "{'_id': ObjectId('5d73853a4c059eb9635a38cb'), 'Name': 'Peter', 'Contact': '+987456321', 'Address': 'HHighway 27'}\n",
      "{'_id': ObjectId('5d7386724c059eb9635a38cc'), 'name': 'Amy', 'address': 'Apple st 652'}\n",
      "{'_id': ObjectId('5d7386724c059eb9635a38ce'), 'name': 'Michael', 'address': 'Valley 345'}\n",
      "{'_id': ObjectId('5d7386724c059eb9635a38cf'), 'name': 'Sandy', 'address': 'Ocean blvd 2'}\n",
      "{'_id': ObjectId('5d7386724c059eb9635a38d0'), 'name': 'Betty', 'address': 'Green Grass 1'}\n",
      "{'_id': ObjectId('5d7386724c059eb9635a38d2'), 'name': 'Susan', 'address': 'One way 98'}\n",
      "{'_id': ObjectId('5d7386724c059eb9635a38d3'), 'name': 'Vicky', 'address': 'Yellow Garden 2'}\n",
      "{'_id': ObjectId('5d7386724c059eb9635a38d4'), 'name': 'Ben', 'address': 'Park Lane 38'}\n",
      "{'_id': ObjectId('5d7386724c059eb9635a38d5'), 'name': 'William', 'address': 'Central st 954'}\n",
      "{'_id': ObjectId('5d7386724c059eb9635a38d6'), 'name': 'Chuck', 'address': 'Main Road 989'}\n",
      "{'_id': 1, 'name': 'John', 'address': 'Highway 37'}\n",
      "{'_id': 2, 'name': 'Peter', 'address': 'Lowstreet 27'}\n",
      "{'_id': 3, 'name': 'Amy', 'address': 'Apple st 652'}\n",
      "{'_id': 5, 'name': 'Michael', 'address': 'Valley 345'}\n",
      "{'_id': 6, 'name': 'Sandy', 'address': 'Ocean blvd 2'}\n",
      "{'_id': 7, 'name': 'Betty', 'address': 'Green Grass 1'}\n",
      "{'_id': 9, 'name': 'Susan', 'address': 'One way 98'}\n",
      "{'_id': 10, 'name': 'Vicky', 'address': 'Yellow Garden 2'}\n",
      "{'_id': 11, 'name': 'Ben', 'address': 'Park Lane 38'}\n",
      "{'_id': 12, 'name': 'William', 'address': 'Central st 954'}\n",
      "{'_id': 13, 'name': 'Chuck', 'address': 'Main Road 989'}\n"
     ]
    }
   ],
   "source": [
    "for x in mycol.find():\n",
    "    print(x)"
   ]
  },
  {
   "cell_type": "markdown",
   "metadata": {},
   "source": [
    "delete data whose address name Letter greater then **S** Letter"
   ]
  },
  {
   "cell_type": "code",
   "execution_count": 14,
   "metadata": {},
   "outputs": [
    {
     "name": "stdout",
     "output_type": "stream",
     "text": [
      "{'_id': ObjectId('5d7384c24c059eb9635a38ca'), 'Name': 'John', 'Contact': '+123654987', 'Address': 'Botson'}\n",
      "{'_id': ObjectId('5d73853a4c059eb9635a38cb'), 'Name': 'Peter', 'Contact': '+987456321', 'Address': 'HHighway 27'}\n",
      "{'_id': ObjectId('5d7386724c059eb9635a38cc'), 'name': 'Amy', 'address': 'Apple st 652'}\n",
      "{'_id': ObjectId('5d7386724c059eb9635a38cf'), 'name': 'Sandy', 'address': 'Ocean blvd 2'}\n",
      "{'_id': ObjectId('5d7386724c059eb9635a38d0'), 'name': 'Betty', 'address': 'Green Grass 1'}\n",
      "{'_id': ObjectId('5d7386724c059eb9635a38d2'), 'name': 'Susan', 'address': 'One way 98'}\n",
      "{'_id': ObjectId('5d7386724c059eb9635a38d4'), 'name': 'Ben', 'address': 'Park Lane 38'}\n",
      "{'_id': ObjectId('5d7386724c059eb9635a38d5'), 'name': 'William', 'address': 'Central st 954'}\n",
      "{'_id': ObjectId('5d7386724c059eb9635a38d6'), 'name': 'Chuck', 'address': 'Main Road 989'}\n",
      "{'_id': 1, 'name': 'John', 'address': 'Highway 37'}\n",
      "{'_id': 2, 'name': 'Peter', 'address': 'Lowstreet 27'}\n",
      "{'_id': 3, 'name': 'Amy', 'address': 'Apple st 652'}\n",
      "{'_id': 6, 'name': 'Sandy', 'address': 'Ocean blvd 2'}\n",
      "{'_id': 7, 'name': 'Betty', 'address': 'Green Grass 1'}\n",
      "{'_id': 9, 'name': 'Susan', 'address': 'One way 98'}\n",
      "{'_id': 11, 'name': 'Ben', 'address': 'Park Lane 38'}\n",
      "{'_id': 12, 'name': 'William', 'address': 'Central st 954'}\n",
      "{'_id': 13, 'name': 'Chuck', 'address': 'Main Road 989'}\n"
     ]
    }
   ],
   "source": [
    "myquery = {\"address\": {\"$gt\":\"S\"}}\n",
    "mycol.delete_many(myquery)\n",
    "for x in mycol.find():\n",
    "    print(x)"
   ]
  },
  {
   "cell_type": "markdown",
   "metadata": {},
   "source": [
    "## Delete all data"
   ]
  },
  {
   "cell_type": "code",
   "execution_count": 20,
   "metadata": {},
   "outputs": [
    {
     "name": "stdout",
     "output_type": "stream",
     "text": [
      "0 deleted\n"
     ]
    }
   ],
   "source": [
    "myquery = x.delete_many({})\n",
    "print(myquery.deleted_count, \"deleted\")"
   ]
  },
  {
   "cell_type": "code",
   "execution_count": null,
   "metadata": {},
   "outputs": [],
   "source": []
  },
  {
   "cell_type": "code",
   "execution_count": null,
   "metadata": {},
   "outputs": [],
   "source": []
  },
  {
   "cell_type": "code",
   "execution_count": null,
   "metadata": {},
   "outputs": [],
   "source": []
  }
 ],
 "metadata": {
  "kernelspec": {
   "display_name": "Python 3",
   "language": "python",
   "name": "python3"
  },
  "language_info": {
   "codemirror_mode": {
    "name": "ipython",
    "version": 3
   },
   "file_extension": ".py",
   "mimetype": "text/x-python",
   "name": "python",
   "nbconvert_exporter": "python",
   "pygments_lexer": "ipython3",
   "version": "3.7.1"
  }
 },
 "nbformat": 4,
 "nbformat_minor": 2
}
