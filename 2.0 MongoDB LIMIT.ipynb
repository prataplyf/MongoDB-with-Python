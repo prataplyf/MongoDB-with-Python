{
 "cells": [
  {
   "cell_type": "code",
   "execution_count": 1,
   "metadata": {},
   "outputs": [],
   "source": [
    "import pymongo as pm"
   ]
  },
  {
   "cell_type": "code",
   "execution_count": 3,
   "metadata": {},
   "outputs": [],
   "source": [
    "myclient = pm.MongoClient(\"mongodb://localhost:27017/\")\n",
    "mydb = myclient[\"mydatabase\"]\n",
    "mycol = mydb[\"customer\"]"
   ]
  },
  {
   "cell_type": "code",
   "execution_count": 6,
   "metadata": {},
   "outputs": [
    {
     "name": "stdout",
     "output_type": "stream",
     "text": [
      "1 :  {'_id': ObjectId('5d73c3d54c059eb9635a38da'), 'Name': 'John', 'Contact': '+123654987', 'Address': 'Botson'}\n",
      "2 :  {'_id': ObjectId('5d73c3d54c059eb9635a38db'), 'Name': 'Peter', 'Contact': '+987456321', 'Address': 'HHighway 27'}\n",
      "3 :  {'_id': ObjectId('5d73c3d74c059eb9635a38dc'), 'name': 'Amy', 'address': 'Botson 652'}\n",
      "4 :  {'_id': ObjectId('5d73c3d74c059eb9635a38dd'), 'name': 'Hannah', 'address': 'Mountain 21'}\n",
      "5 :  {'_id': ObjectId('5d73c3d74c059eb9635a38de'), 'name': 'Michael', 'address': 'Valley 345'}\n",
      "6 :  {'_id': ObjectId('5d73c3d74c059eb9635a38df'), 'name': 'Australian', 'address': 'Ocean blvd 2'}\n",
      "7 :  {'_id': ObjectId('5d73c3d74c059eb9635a38e0'), 'name': 'Betty', 'address': 'Green Grass 1'}\n"
     ]
    }
   ],
   "source": [
    "count = 1\n",
    "for i in mycol.find().limit(7):\n",
    "    print(\"{} : \".format(count),i)\n",
    "    count += 1"
   ]
  },
  {
   "cell_type": "code",
   "execution_count": null,
   "metadata": {},
   "outputs": [],
   "source": []
  }
 ],
 "metadata": {
  "kernelspec": {
   "display_name": "Python 3",
   "language": "python",
   "name": "python3"
  },
  "language_info": {
   "codemirror_mode": {
    "name": "ipython",
    "version": 3
   },
   "file_extension": ".py",
   "mimetype": "text/x-python",
   "name": "python",
   "nbconvert_exporter": "python",
   "pygments_lexer": "ipython3",
   "version": "3.7.1"
  }
 },
 "nbformat": 4,
 "nbformat_minor": 2
}
