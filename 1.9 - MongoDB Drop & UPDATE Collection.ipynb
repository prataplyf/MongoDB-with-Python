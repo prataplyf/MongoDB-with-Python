{
 "cells": [
  {
   "cell_type": "markdown",
   "metadata": {},
   "source": [
    "# Drop"
   ]
  },
  {
   "cell_type": "code",
   "execution_count": 1,
   "metadata": {},
   "outputs": [],
   "source": [
    "import pymongo"
   ]
  },
  {
   "cell_type": "code",
   "execution_count": 2,
   "metadata": {},
   "outputs": [],
   "source": [
    "myclient = pymongo.MongoClient(\"mongodb://localhost:27017/\")\n",
    "mydb = myclient[\"mydatabase\"]\n",
    "mycol = mydb[\"customer\"]"
   ]
  },
  {
   "cell_type": "code",
   "execution_count": 4,
   "metadata": {},
   "outputs": [],
   "source": [
    "# No data available bcz we deleted all data in previous session 1.8\n",
    "for i in mycol.find():\n",
    "    print(i)"
   ]
  },
  {
   "cell_type": "markdown",
   "metadata": {},
   "source": [
    "You can delete a table, or collection as it is called in MongoDB, by using the **drop()** method."
   ]
  },
  {
   "cell_type": "code",
   "execution_count": 5,
   "metadata": {},
   "outputs": [],
   "source": [
    "mycol.drop()"
   ]
  },
  {
   "cell_type": "markdown",
   "metadata": {},
   "source": [
    "# UPDATE"
   ]
  },
  {
   "cell_type": "code",
   "execution_count": 6,
   "metadata": {},
   "outputs": [],
   "source": [
    "# first run session 1.4"
   ]
  },
  {
   "cell_type": "code",
   "execution_count": 7,
   "metadata": {},
   "outputs": [
    {
     "name": "stdout",
     "output_type": "stream",
     "text": [
      "{'_id': ObjectId('5d73c3d54c059eb9635a38da'), 'Name': 'John', 'Contact': '+123654987', 'Address': 'Botson'}\n",
      "{'_id': ObjectId('5d73c3d54c059eb9635a38db'), 'Name': 'Peter', 'Contact': '+987456321', 'Address': 'HHighway 27'}\n",
      "{'_id': ObjectId('5d73c3d74c059eb9635a38dc'), 'name': 'Amy', 'address': 'Apple st 652'}\n",
      "{'_id': ObjectId('5d73c3d74c059eb9635a38dd'), 'name': 'Hannah', 'address': 'Mountain 21'}\n",
      "{'_id': ObjectId('5d73c3d74c059eb9635a38de'), 'name': 'Michael', 'address': 'Valley 345'}\n",
      "{'_id': ObjectId('5d73c3d74c059eb9635a38df'), 'name': 'Sandy', 'address': 'Ocean blvd 2'}\n",
      "{'_id': ObjectId('5d73c3d74c059eb9635a38e0'), 'name': 'Betty', 'address': 'Green Grass 1'}\n",
      "{'_id': ObjectId('5d73c3d74c059eb9635a38e1'), 'name': 'Richard', 'address': 'Sky st 331'}\n",
      "{'_id': ObjectId('5d73c3d74c059eb9635a38e2'), 'name': 'Susan', 'address': 'One way 98'}\n",
      "{'_id': ObjectId('5d73c3d74c059eb9635a38e3'), 'name': 'Vicky', 'address': 'Yellow Garden 2'}\n",
      "{'_id': ObjectId('5d73c3d74c059eb9635a38e4'), 'name': 'Ben', 'address': 'Park Lane 38'}\n",
      "{'_id': ObjectId('5d73c3d74c059eb9635a38e5'), 'name': 'William', 'address': 'Central st 954'}\n",
      "{'_id': ObjectId('5d73c3d74c059eb9635a38e6'), 'name': 'Chuck', 'address': 'Main Road 989'}\n",
      "{'_id': ObjectId('5d73c3d74c059eb9635a38e7'), 'name': 'Viola', 'address': 'Sideway 1633'}\n",
      "{'_id': 1, 'name': 'John', 'address': 'Highway 37'}\n",
      "{'_id': 2, 'name': 'Peter', 'address': 'Lowstreet 27'}\n",
      "{'_id': 3, 'name': 'Amy', 'address': 'Apple st 652'}\n",
      "{'_id': 4, 'name': 'Hannah', 'address': 'Mountain 21'}\n",
      "{'_id': 5, 'name': 'Michael', 'address': 'Valley 345'}\n",
      "{'_id': 6, 'name': 'Sandy', 'address': 'Ocean blvd 2'}\n",
      "{'_id': 7, 'name': 'Betty', 'address': 'Green Grass 1'}\n",
      "{'_id': 8, 'name': 'Richard', 'address': 'Sky st 331'}\n",
      "{'_id': 9, 'name': 'Susan', 'address': 'One way 98'}\n",
      "{'_id': 10, 'name': 'Vicky', 'address': 'Yellow Garden 2'}\n",
      "{'_id': 11, 'name': 'Ben', 'address': 'Park Lane 38'}\n",
      "{'_id': 12, 'name': 'William', 'address': 'Central st 954'}\n",
      "{'_id': 13, 'name': 'Chuck', 'address': 'Main Road 989'}\n",
      "{'_id': 14, 'name': 'Viola', 'address': 'Sideway 1633'}\n"
     ]
    }
   ],
   "source": [
    "for x in mycol.find():\n",
    "    print(x)"
   ]
  },
  {
   "cell_type": "code",
   "execution_count": 8,
   "metadata": {},
   "outputs": [
    {
     "data": {
      "text/plain": [
       "<pymongo.results.UpdateResult at 0xaa3e78c5c8>"
      ]
     },
     "execution_count": 8,
     "metadata": {},
     "output_type": "execute_result"
    }
   ],
   "source": [
    "myquery = {\"address\" : \"Apple st 652\"}\n",
    "newquery = {\"$set\": {\"address\": \"Botson 652\"}}\n",
    "mycol.update_one(myquery, newquery)"
   ]
  },
  {
   "cell_type": "code",
   "execution_count": 9,
   "metadata": {},
   "outputs": [
    {
     "name": "stdout",
     "output_type": "stream",
     "text": [
      "{'_id': ObjectId('5d73c3d54c059eb9635a38da'), 'Name': 'John', 'Contact': '+123654987', 'Address': 'Botson'}\n",
      "{'_id': ObjectId('5d73c3d54c059eb9635a38db'), 'Name': 'Peter', 'Contact': '+987456321', 'Address': 'HHighway 27'}\n",
      "{'_id': ObjectId('5d73c3d74c059eb9635a38dc'), 'name': 'Amy', 'address': 'Botson 652'}\n",
      "{'_id': ObjectId('5d73c3d74c059eb9635a38dd'), 'name': 'Hannah', 'address': 'Mountain 21'}\n",
      "{'_id': ObjectId('5d73c3d74c059eb9635a38de'), 'name': 'Michael', 'address': 'Valley 345'}\n",
      "{'_id': ObjectId('5d73c3d74c059eb9635a38df'), 'name': 'Sandy', 'address': 'Ocean blvd 2'}\n",
      "{'_id': ObjectId('5d73c3d74c059eb9635a38e0'), 'name': 'Betty', 'address': 'Green Grass 1'}\n",
      "{'_id': ObjectId('5d73c3d74c059eb9635a38e1'), 'name': 'Richard', 'address': 'Sky st 331'}\n",
      "{'_id': ObjectId('5d73c3d74c059eb9635a38e2'), 'name': 'Susan', 'address': 'One way 98'}\n",
      "{'_id': ObjectId('5d73c3d74c059eb9635a38e3'), 'name': 'Vicky', 'address': 'Yellow Garden 2'}\n",
      "{'_id': ObjectId('5d73c3d74c059eb9635a38e4'), 'name': 'Ben', 'address': 'Park Lane 38'}\n",
      "{'_id': ObjectId('5d73c3d74c059eb9635a38e5'), 'name': 'William', 'address': 'Central st 954'}\n",
      "{'_id': ObjectId('5d73c3d74c059eb9635a38e6'), 'name': 'Chuck', 'address': 'Main Road 989'}\n",
      "{'_id': ObjectId('5d73c3d74c059eb9635a38e7'), 'name': 'Viola', 'address': 'Sideway 1633'}\n",
      "{'_id': 1, 'name': 'John', 'address': 'Highway 37'}\n",
      "{'_id': 2, 'name': 'Peter', 'address': 'Lowstreet 27'}\n",
      "{'_id': 3, 'name': 'Amy', 'address': 'Apple st 652'}\n",
      "{'_id': 4, 'name': 'Hannah', 'address': 'Mountain 21'}\n",
      "{'_id': 5, 'name': 'Michael', 'address': 'Valley 345'}\n",
      "{'_id': 6, 'name': 'Sandy', 'address': 'Ocean blvd 2'}\n",
      "{'_id': 7, 'name': 'Betty', 'address': 'Green Grass 1'}\n",
      "{'_id': 8, 'name': 'Richard', 'address': 'Sky st 331'}\n",
      "{'_id': 9, 'name': 'Susan', 'address': 'One way 98'}\n",
      "{'_id': 10, 'name': 'Vicky', 'address': 'Yellow Garden 2'}\n",
      "{'_id': 11, 'name': 'Ben', 'address': 'Park Lane 38'}\n",
      "{'_id': 12, 'name': 'William', 'address': 'Central st 954'}\n",
      "{'_id': 13, 'name': 'Chuck', 'address': 'Main Road 989'}\n",
      "{'_id': 14, 'name': 'Viola', 'address': 'Sideway 1633'}\n"
     ]
    }
   ],
   "source": [
    "for x in mycol.find():\n",
    "    print(x)"
   ]
  },
  {
   "cell_type": "markdown",
   "metadata": {},
   "source": [
    "# Update Many"
   ]
  },
  {
   "cell_type": "code",
   "execution_count": 10,
   "metadata": {},
   "outputs": [],
   "source": [
    "myquery = {\"name\": {\"$regex\":\"^S\"}}\n",
    "newquery = {\"$set\": {\"name\": \"Australian\"}}"
   ]
  },
  {
   "cell_type": "code",
   "execution_count": 11,
   "metadata": {},
   "outputs": [
    {
     "data": {
      "text/plain": [
       "<pymongo.results.UpdateResult at 0xaa3ef72588>"
      ]
     },
     "execution_count": 11,
     "metadata": {},
     "output_type": "execute_result"
    }
   ],
   "source": [
    "mycol.update_many(myquery, newquery)"
   ]
  },
  {
   "cell_type": "code",
   "execution_count": 12,
   "metadata": {},
   "outputs": [
    {
     "name": "stdout",
     "output_type": "stream",
     "text": [
      "{'_id': ObjectId('5d73c3d54c059eb9635a38da'), 'Name': 'John', 'Contact': '+123654987', 'Address': 'Botson'}\n",
      "{'_id': ObjectId('5d73c3d54c059eb9635a38db'), 'Name': 'Peter', 'Contact': '+987456321', 'Address': 'HHighway 27'}\n",
      "{'_id': ObjectId('5d73c3d74c059eb9635a38dc'), 'name': 'Amy', 'address': 'Botson 652'}\n",
      "{'_id': ObjectId('5d73c3d74c059eb9635a38dd'), 'name': 'Hannah', 'address': 'Mountain 21'}\n",
      "{'_id': ObjectId('5d73c3d74c059eb9635a38de'), 'name': 'Michael', 'address': 'Valley 345'}\n",
      "{'_id': ObjectId('5d73c3d74c059eb9635a38df'), 'name': 'Australian', 'address': 'Ocean blvd 2'}\n",
      "{'_id': ObjectId('5d73c3d74c059eb9635a38e0'), 'name': 'Betty', 'address': 'Green Grass 1'}\n",
      "{'_id': ObjectId('5d73c3d74c059eb9635a38e1'), 'name': 'Richard', 'address': 'Sky st 331'}\n",
      "{'_id': ObjectId('5d73c3d74c059eb9635a38e2'), 'name': 'Australian', 'address': 'One way 98'}\n",
      "{'_id': ObjectId('5d73c3d74c059eb9635a38e3'), 'name': 'Vicky', 'address': 'Yellow Garden 2'}\n",
      "{'_id': ObjectId('5d73c3d74c059eb9635a38e4'), 'name': 'Ben', 'address': 'Park Lane 38'}\n",
      "{'_id': ObjectId('5d73c3d74c059eb9635a38e5'), 'name': 'William', 'address': 'Central st 954'}\n",
      "{'_id': ObjectId('5d73c3d74c059eb9635a38e6'), 'name': 'Chuck', 'address': 'Main Road 989'}\n",
      "{'_id': ObjectId('5d73c3d74c059eb9635a38e7'), 'name': 'Viola', 'address': 'Sideway 1633'}\n",
      "{'_id': 1, 'name': 'John', 'address': 'Highway 37'}\n",
      "{'_id': 2, 'name': 'Peter', 'address': 'Lowstreet 27'}\n",
      "{'_id': 3, 'name': 'Amy', 'address': 'Apple st 652'}\n",
      "{'_id': 4, 'name': 'Hannah', 'address': 'Mountain 21'}\n",
      "{'_id': 5, 'name': 'Michael', 'address': 'Valley 345'}\n",
      "{'_id': 6, 'name': 'Australian', 'address': 'Ocean blvd 2'}\n",
      "{'_id': 7, 'name': 'Betty', 'address': 'Green Grass 1'}\n",
      "{'_id': 8, 'name': 'Richard', 'address': 'Sky st 331'}\n",
      "{'_id': 9, 'name': 'Australian', 'address': 'One way 98'}\n",
      "{'_id': 10, 'name': 'Vicky', 'address': 'Yellow Garden 2'}\n",
      "{'_id': 11, 'name': 'Ben', 'address': 'Park Lane 38'}\n",
      "{'_id': 12, 'name': 'William', 'address': 'Central st 954'}\n",
      "{'_id': 13, 'name': 'Chuck', 'address': 'Main Road 989'}\n",
      "{'_id': 14, 'name': 'Viola', 'address': 'Sideway 1633'}\n"
     ]
    }
   ],
   "source": [
    "for x in mycol.find():\n",
    "    print(x)"
   ]
  },
  {
   "cell_type": "code",
   "execution_count": 13,
   "metadata": {},
   "outputs": [],
   "source": [
    "myquery = {\"name\":{\"$gt\":\"S\"}}\n",
    "newquery = {\"$set\": {\"name\":\"NEW UPDATED\"}}"
   ]
  },
  {
   "cell_type": "code",
   "execution_count": 14,
   "metadata": {},
   "outputs": [
    {
     "data": {
      "text/plain": [
       "<pymongo.results.UpdateResult at 0xaa3e62cf08>"
      ]
     },
     "execution_count": 14,
     "metadata": {},
     "output_type": "execute_result"
    }
   ],
   "source": [
    "mycol.update_many(myquery, newquery)"
   ]
  },
  {
   "cell_type": "code",
   "execution_count": 18,
   "metadata": {},
   "outputs": [
    {
     "name": "stdout",
     "output_type": "stream",
     "text": [
      "{'_id': ObjectId('5d73c3d54c059eb9635a38da'), 'Name': 'John', 'Contact': '+123654987', 'Address': 'Botson'}\n",
      "{'_id': ObjectId('5d73c3d54c059eb9635a38db'), 'Name': 'Peter', 'Contact': '+987456321', 'Address': 'HHighway 27'}\n",
      "{'_id': ObjectId('5d73c3d74c059eb9635a38dc'), 'name': 'Amy', 'address': 'Botson 652'}\n",
      "{'_id': ObjectId('5d73c3d74c059eb9635a38dd'), 'name': 'Hannah', 'address': 'Mountain 21'}\n",
      "{'_id': ObjectId('5d73c3d74c059eb9635a38de'), 'name': 'Michael', 'address': 'Valley 345'}\n",
      "{'_id': ObjectId('5d73c3d74c059eb9635a38df'), 'name': 'Australian', 'address': 'Ocean blvd 2'}\n",
      "{'_id': ObjectId('5d73c3d74c059eb9635a38e0'), 'name': 'Betty', 'address': 'Green Grass 1'}\n",
      "{'_id': ObjectId('5d73c3d74c059eb9635a38e1'), 'name': 'Richard', 'address': 'Sky st 331'}\n",
      "{'_id': ObjectId('5d73c3d74c059eb9635a38e2'), 'name': 'Australian', 'address': 'One way 98'}\n",
      "{'_id': ObjectId('5d73c3d74c059eb9635a38e3'), 'name': 'NEW UPDATED', 'address': 'Yellow Garden 2'}\n",
      "{'_id': ObjectId('5d73c3d74c059eb9635a38e4'), 'name': 'Ben', 'address': 'Park Lane 38'}\n",
      "{'_id': ObjectId('5d73c3d74c059eb9635a38e5'), 'name': 'NEW UPDATED', 'address': 'Central st 954'}\n",
      "{'_id': ObjectId('5d73c3d74c059eb9635a38e6'), 'name': 'Chuck', 'address': 'Main Road 989'}\n",
      "{'_id': ObjectId('5d73c3d74c059eb9635a38e7'), 'name': 'NEW UPDATED', 'address': 'Sideway 1633'}\n",
      "{'_id': 1, 'name': 'John', 'address': 'Highway 37'}\n",
      "{'_id': 2, 'name': 'Peter', 'address': 'Lowstreet 27'}\n",
      "{'_id': 3, 'name': 'Amy', 'address': 'Apple st 652'}\n",
      "{'_id': 4, 'name': 'Hannah', 'address': 'Mountain 21'}\n",
      "{'_id': 5, 'name': 'Michael', 'address': 'Valley 345'}\n",
      "{'_id': 6, 'name': 'Australian', 'address': 'Ocean blvd 2'}\n",
      "{'_id': 7, 'name': 'Betty', 'address': 'Green Grass 1'}\n",
      "{'_id': 8, 'name': 'Richard', 'address': 'Sky st 331'}\n",
      "{'_id': 9, 'name': 'Australian', 'address': 'One way 98'}\n",
      "{'_id': 10, 'name': 'NEW UPDATED', 'address': 'Yellow Garden 2'}\n",
      "{'_id': 11, 'name': 'Ben', 'address': 'Park Lane 38'}\n",
      "{'_id': 12, 'name': 'NEW UPDATED', 'address': 'Central st 954'}\n",
      "{'_id': 13, 'name': 'Chuck', 'address': 'Main Road 989'}\n",
      "{'_id': 14, 'name': 'NEW UPDATED', 'address': 'Sideway 1633'}\n"
     ]
    }
   ],
   "source": [
    "for x in mycol.find():\n",
    "    print(x)"
   ]
  },
  {
   "cell_type": "code",
   "execution_count": null,
   "metadata": {},
   "outputs": [],
   "source": []
  },
  {
   "cell_type": "code",
   "execution_count": null,
   "metadata": {},
   "outputs": [],
   "source": []
  },
  {
   "cell_type": "code",
   "execution_count": null,
   "metadata": {},
   "outputs": [],
   "source": []
  },
  {
   "cell_type": "code",
   "execution_count": null,
   "metadata": {},
   "outputs": [],
   "source": []
  }
 ],
 "metadata": {
  "kernelspec": {
   "display_name": "Python 3",
   "language": "python",
   "name": "python3"
  },
  "language_info": {
   "codemirror_mode": {
    "name": "ipython",
    "version": 3
   },
   "file_extension": ".py",
   "mimetype": "text/x-python",
   "name": "python",
   "nbconvert_exporter": "python",
   "pygments_lexer": "ipython3",
   "version": "3.7.1"
  }
 },
 "nbformat": 4,
 "nbformat_minor": 2
}
